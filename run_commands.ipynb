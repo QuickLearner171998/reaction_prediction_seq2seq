{
  "nbformat": 4,
  "nbformat_minor": 0,
  "metadata": {
    "colab": {
      "name": "run_commands.ipynb",
      "provenance": [],
      "collapsed_sections": [],
      "authorship_tag": "ABX9TyPhCp/hxNVG0Z+vb4Pue00m",
      "include_colab_link": true
    },
    "kernelspec": {
      "name": "python3",
      "display_name": "Python 3"
    },
    "accelerator": "GPU"
  },
  "cells": [
    {
      "cell_type": "markdown",
      "metadata": {
        "id": "view-in-github",
        "colab_type": "text"
      },
      "source": [
        "<a href=\"https://colab.research.google.com/github/QuickLearner171998/reaction_prediction_seq2seq/blob/master/run_commands.ipynb\" target=\"_parent\"><img src=\"https://colab.research.google.com/assets/colab-badge.svg\" alt=\"Open In Colab\"/></a>"
      ]
    },
    {
      "cell_type": "code",
      "metadata": {
        "id": "AxMSqi5kYsQ-",
        "colab_type": "code",
        "colab": {}
      },
      "source": [
        "from google.colab import drive\n",
        "drive.mount('/gdrive')"
      ],
      "execution_count": 0,
      "outputs": []
    },
    {
      "cell_type": "code",
      "metadata": {
        "id": "XzIj20ksYedn",
        "colab_type": "code",
        "colab": {}
      },
      "source": [
        "% cd \"/gdrive/My Drive/00_MY Projects and courses/reaction_prediction_seq2seq\""
      ],
      "execution_count": 0,
      "outputs": []
    },
    {
      "cell_type": "markdown",
      "metadata": {
        "id": "f-bmzzUvtjFu",
        "colab_type": "text"
      },
      "source": [
        "# Necessary installations\n",
        "These might vary depending on the platform.\n",
        "For this project I have used Colab\n",
        "\n",
        "The original Project supports only TF 1.0.1 So its better to install TF 1.0.1 only."
      ]
    },
    {
      "cell_type": "code",
      "metadata": {
        "id": "TE9Zd83EAres",
        "colab_type": "code",
        "colab": {}
      },
      "source": [
        "! pip uninstall tensorflow\n",
        "! pip install tensorflow==1.0.1"
      ],
      "execution_count": 0,
      "outputs": []
    },
    {
      "cell_type": "code",
      "metadata": {
        "id": "GQaVU8MUtm-j",
        "colab_type": "code",
        "colab": {}
      },
      "source": [
        "!wget -c https://repo.continuum.io/miniconda/Miniconda3-latest-Linux-x86_64.sh\n",
        "!chmod +x Miniconda3-latest-Linux-x86_64.sh\n",
        "!time bash ./Miniconda3-latest-Linux-x86_64.sh -b -f -p /usr/local\n",
        "!time conda install -q -y -c conda-forge rdkit\n",
        "%matplotlib inline\n",
        "import matplotlib.pyplot as plt\n",
        "import sys\n",
        "import os\n",
        "sys.path.append('/usr/local/lib/python3.7/site-packages/')\n"
      ],
      "execution_count": 0,
      "outputs": []
    },
    {
      "cell_type": "code",
      "metadata": {
        "id": "s0UGFwTnA3AW",
        "colab_type": "code",
        "colab": {}
      },
      "source": [
        "import tensorflow as tf\n",
        "print(tf.__version__)"
      ],
      "execution_count": 0,
      "outputs": []
    },
    {
      "cell_type": "code",
      "metadata": {
        "id": "567VfxwhY0kf",
        "colab_type": "code",
        "colab": {}
      },
      "source": [
        "! python setup.py install"
      ],
      "execution_count": 0,
      "outputs": []
    },
    {
      "cell_type": "code",
      "metadata": {
        "id": "h4sGtCwFto0X",
        "colab_type": "code",
        "colab": {}
      },
      "source": [
        ""
      ],
      "execution_count": 0,
      "outputs": []
    },
    {
      "cell_type": "markdown",
      "metadata": {
        "id": "K08Dmz6Utpjf",
        "colab_type": "text"
      },
      "source": [
        "# Inferencing"
      ]
    },
    {
      "cell_type": "code",
      "metadata": {
        "id": "zq-NhjDYZd0b",
        "colab_type": "code",
        "colab": {}
      },
      "source": [
        "! chmod +x google_seq2seq_infer_jul_5_2017_1_beam_3.sh\n",
        "! ./google_seq2seq_infer_jul_5_2017_1_beam_3.sh"
      ],
      "execution_count": 0,
      "outputs": []
    },
    {
      "cell_type": "markdown",
      "metadata": {
        "id": "4O2hsYgytxqI",
        "colab_type": "text"
      },
      "source": [
        "# Post Processing\n",
        "The prediction file has spaces between each atom which needs to be removed.\n",
        "\n",
        "We then use rdkit to visualise the molecules"
      ]
    },
    {
      "cell_type": "code",
      "metadata": {
        "colab_type": "code",
        "id": "blilI3MpgdAZ",
        "colab": {}
      },
      "source": [
        "# Modify text to convert to molecule\n",
        "fpath = r\"/gdrive/My Drive/00_MY Projects and courses/reaction_prediction_seq2seq/predictions/predictions_44000_steps_beam_3_test.txt\"\n",
        "with open(fpath, 'r') as f:\n",
        "    lines = f.readlines()\n",
        "\n",
        "# remove spaces\n",
        "lines = [line.replace(' ', '') for line in lines]\n",
        "\n",
        "# finally, write lines in the file\n",
        "with open('final.txt', 'w') as f:\n",
        "    f.writelines(lines)"
      ],
      "execution_count": 0,
      "outputs": []
    },
    {
      "cell_type": "code",
      "metadata": {
        "id": "rTdV-nKwcE7M",
        "colab_type": "code",
        "colab": {}
      },
      "source": [
        "from rdkit import Chem\n",
        "from rdkit.Chem import Draw\n",
        "\n",
        "size = (320, 320)  # Smaller figures than the default"
      ],
      "execution_count": 0,
      "outputs": []
    },
    {
      "cell_type": "code",
      "metadata": {
        "id": "-Qe4Ahj_cNJd",
        "colab_type": "code",
        "colab": {}
      },
      "source": [
        "with open('final.txt') as f:\n",
        "  lines = f.readlines()\n",
        "err = []\n",
        "for i,line in enumerate(lines):\n",
        "  \n",
        "  m = Chem.MolFromSmiles(line.split())\n",
        "  try:\n",
        "\n",
        "    fig = Draw.MolToMPL(m, size=size)\n",
        "  except:\n",
        "    err.append(i)"
      ],
      "execution_count": 0,
      "outputs": []
    }
  ]
}